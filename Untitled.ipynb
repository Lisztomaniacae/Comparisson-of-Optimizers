{
 "cells": [
  {
   "cell_type": "code",
   "execution_count": 27,
   "id": "862ee6d6-acb4-46aa-81f1-bf14f172a410",
   "metadata": {},
   "outputs": [],
   "source": [
    "import torch\n",
    "import torch.nn as nn\n",
    "import torch.nn.functional as F\n",
    "import torch.optim as optim\n",
    "import numpy as np\n",
    "from torchvision import datasets, transforms\n",
    "from torch.optim.lr_scheduler import ExponentialLR\n",
    "from tqdm.auto import tqdm\n",
    "\n",
    "# Get CPU or GPU device for training\n",
    "device = torch.device(\n",
    "    \"cuda\" if torch.cuda.is_available()\n",
    "    else \"mps\" if torch.backends.mps.is_available()\n",
    "    else \"cpu\"\n",
    ")\n",
    "device = torch.device(device)\n"
   ]
  },
  {
   "cell_type": "code",
   "execution_count": 138,
   "id": "37df6e4f-5281-4bbc-b999-60a1ce975d3c",
   "metadata": {},
   "outputs": [],
   "source": [
    "# Random seed for reproducibility\n",
    "seed = 4201337\n",
    "torch.manual_seed(seed)\n",
    "\n",
    "# Batch sizes for training and testing\n",
    "batch_size = 1023\n",
    "test_batch_size = 32\n",
    "\n",
    "# Training epochs\n",
    "n_epochs = 10\n",
    "\n",
    "# Learning rates\n",
    "learning_rate_Adam = 0.001\n",
    "learning_rate_Adadelta = 1\n",
    "learning_rate_SGD = 0.1\n",
    "\n",
    "# Decay rate for adjusting the learning rate\n",
    "gamma = 0.85\n",
    "\n",
    "# How many batches before logging training status\n",
    "log_interval = 10\n",
    "\n",
    "# Number of target classes in the MNIST data\n",
    "num_classes = 10\n"
   ]
  },
  {
   "cell_type": "code",
   "execution_count": 132,
   "id": "8eb96cba-8831-4e89-93ac-62902ad823ce",
   "metadata": {},
   "outputs": [],
   "source": [
    "# The scaled mean and standard deviation of the MNIST dataset (precalculated)\n",
    "data_mean = 0.1307,\n",
    "data_std = 0.3081\n",
    "\n",
    "# Convert input images to tensors and normalize\n",
    "transform=transforms.Compose([\n",
    "    transforms.ToTensor(),\n",
    "    transforms.Normalize((data_mean,), (data_std,))\n",
    "    ])\n",
    "\n",
    "# Get the MNIST data from torchvision\n",
    "dataset1 = datasets.MNIST('../data', train=True, download=True,\n",
    "                    transform=transform)\n",
    "dataset2 = datasets.MNIST('../data', train=False,\n",
    "                    transform=transform)\n",
    "\n",
    "# Define the data loaders that will handle fetching of data\n",
    "train_loader = torch.utils.data.DataLoader(dataset1, batch_size=batch_size)\n",
    "test_loader = torch.utils.data.DataLoader(dataset2, batch_size=test_batch_size)"
   ]
  },
  {
   "cell_type": "code",
   "execution_count": 133,
   "id": "ffbc6cce-4fca-4965-909f-5fdad778ed32",
   "metadata": {},
   "outputs": [
    {
     "name": "stdout",
     "output_type": "stream",
     "text": [
      "Mean: tensor([-0.0001])\n",
      "Std: tensor([1.0000])\n"
     ]
    }
   ],
   "source": [
    "# Calculating mean and standart deviation of the dataset\n",
    "# Mu of approx. 0 and Std of approx 1 means that dataset is already normalized\n",
    "\n",
    "mu = torch.zeros(1)\n",
    "sigma = torch.zeros(1)\n",
    "n_pixels = 0\n",
    "\n",
    "with torch.no_grad():\n",
    "    for data, target in train_loader:\n",
    "        # data shape: (batch_size, 1, 28, 28)\n",
    "        mu += data.sum(dim=(0, 2, 3))\n",
    "        sigma += (data ** 2).sum(dim=(0, 2, 3))\n",
    "        n_pixels += data.numel() // data.shape[1]  # total pixels per channel\n",
    "\n",
    "# Calculate mean and std\n",
    "mu /= n_pixels\n",
    "std = torch.sqrt(sigma / n_pixels - mu ** 2)\n",
    "\n",
    "print(\"Mean:\", mu)\n",
    "print(\"Std:\", std)\n"
   ]
  },
  {
   "cell_type": "code",
   "execution_count": 134,
   "id": "10ff91f3-ec14-4b0d-a365-9662179a457c",
   "metadata": {},
   "outputs": [],
   "source": [
    "# Define the architecture of the neural network\n",
    "class Net(nn.Module):\n",
    "    def __init__(self):\n",
    "        super(Net, self).__init__()\n",
    "        self.conv1 = nn.Conv2d(1, 12, kernel_size=3, stride=1, padding='valid')\n",
    "        self.conv2 = nn.Conv2d(12, 16, kernel_size=3, stride=1, padding='valid')\n",
    "        self.fc1 = nn.Linear(2304, 512)\n",
    "        self.fc2 = nn.Linear(512, num_classes)\n",
    "\n",
    "    def forward(self, x):\n",
    "        x = self.conv1(x)\n",
    "        x = F.relu(x)\n",
    "        x = self.conv2(x)\n",
    "        x = F.relu(x)\n",
    "        x = F.max_pool2d(x, 2)\n",
    "        x = torch.flatten(x, 1)\n",
    "        x = self.fc1(x)\n",
    "        x = F.relu(x)\n",
    "        x = self.fc2(x)\n",
    "        output = F.softmax(x, dim=1)\n",
    "        return output"
   ]
  },
  {
   "cell_type": "code",
   "execution_count": 135,
   "id": "07ea9180-c31e-4b7c-85d9-b68d1d05badc",
   "metadata": {},
   "outputs": [],
   "source": [
    "def train(model, device, train_loader, optimizer, epoch, log_interval):\n",
    "    model.train()\n",
    "    pbar = tqdm(enumerate(train_loader), total=len(train_loader))\n",
    "\n",
    "    for idx, (data, target) in pbar:\n",
    "        data, target = data.to(device), target.to(device)\n",
    "        optimizer.zero_grad()\n",
    "        output = model(data)\n",
    "        loss = F.cross_entropy(output, target)\n",
    "        loss.backward()\n",
    "        optimizer.step()\n",
    "\n",
    "        if idx % log_interval == 0:\n",
    "            pbar.set_description(\n",
    "                f\"Train Epoch: {epoch}, Optimizer: {str(optimizer.__class__.__name__)}, Loss: {loss.item():.6f}\"\n",
    "            )"
   ]
  },
  {
   "cell_type": "code",
   "execution_count": 136,
   "id": "4d5a6e47-10fa-44d5-8f0b-5dc098bd5d86",
   "metadata": {},
   "outputs": [],
   "source": [
    "def test(model, device, test_loader, optimizer):\n",
    "    model.eval()\n",
    "    test_loss = 0\n",
    "    correct = 0\n",
    "    with torch.no_grad():\n",
    "        for data, target in test_loader:\n",
    "            data, target = data.to(device), target.to(device)\n",
    "            output = model(data)\n",
    "            # sum up batch loss\n",
    "            test_loss += F.nll_loss(output, target, reduction='sum').item()\n",
    "            # get the index of the max log-probability\n",
    "            pred = output.argmax(dim=1, keepdim=True)\n",
    "            correct += pred.eq(target.view_as(pred)).sum().item()\n",
    "\n",
    "    test_loss /= len(test_loader.dataset)\n",
    "\n",
    "    print('\\nTest set: Optimizer: {} Average loss: {:.4f}, Accuracy: {}/{} ({:.2f}%)\\n'.format(\n",
    "        str(optimizer.__class__.__name__), test_loss+1, correct, len(test_loader.dataset),\n",
    "        100. * correct / len(test_loader.dataset)))"
   ]
  },
  {
   "cell_type": "code",
   "execution_count": 139,
   "id": "b7c45dff-1f89-4896-baac-5740975d50aa",
   "metadata": {},
   "outputs": [
    {
     "data": {
      "application/vnd.jupyter.widget-view+json": {
       "model_id": "c1f58a29b79048978922a5fbe0ad507f",
       "version_major": 2,
       "version_minor": 0
      },
      "text/plain": [
       "  0%|          | 0/59 [00:00<?, ?it/s]"
      ]
     },
     "metadata": {},
     "output_type": "display_data"
    },
    {
     "data": {
      "application/vnd.jupyter.widget-view+json": {
       "model_id": "51a271856cc345d898df8a24365f665c",
       "version_major": 2,
       "version_minor": 0
      },
      "text/plain": [
       "  0%|          | 0/59 [00:00<?, ?it/s]"
      ]
     },
     "metadata": {},
     "output_type": "display_data"
    },
    {
     "data": {
      "application/vnd.jupyter.widget-view+json": {
       "model_id": "bdc707de836e45fca23bce654fd55ab5",
       "version_major": 2,
       "version_minor": 0
      },
      "text/plain": [
       "  0%|          | 0/59 [00:00<?, ?it/s]"
      ]
     },
     "metadata": {},
     "output_type": "display_data"
    },
    {
     "name": "stdout",
     "output_type": "stream",
     "text": [
      "\n",
      "Test set: Optimizer: Adam Average loss: 0.0855, Accuracy: 9223/10000 (92.23%)\n",
      "\n",
      "\n",
      "Test set: Optimizer: Adadelta Average loss: 0.2490, Accuracy: 7577/10000 (75.77%)\n",
      "\n",
      "\n",
      "Test set: Optimizer: SGD Average loss: 0.3562, Accuracy: 6662/10000 (66.62%)\n",
      "\n"
     ]
    },
    {
     "data": {
      "application/vnd.jupyter.widget-view+json": {
       "model_id": "a4e56313e78146ecbb027f30fb9f6396",
       "version_major": 2,
       "version_minor": 0
      },
      "text/plain": [
       "  0%|          | 0/59 [00:00<?, ?it/s]"
      ]
     },
     "metadata": {},
     "output_type": "display_data"
    },
    {
     "data": {
      "application/vnd.jupyter.widget-view+json": {
       "model_id": "9ac5595bda324a2b8e01dd01c58efeae",
       "version_major": 2,
       "version_minor": 0
      },
      "text/plain": [
       "  0%|          | 0/59 [00:00<?, ?it/s]"
      ]
     },
     "metadata": {},
     "output_type": "display_data"
    },
    {
     "data": {
      "application/vnd.jupyter.widget-view+json": {
       "model_id": "649c77813de24f32a1cdc9625390467b",
       "version_major": 2,
       "version_minor": 0
      },
      "text/plain": [
       "  0%|          | 0/59 [00:00<?, ?it/s]"
      ]
     },
     "metadata": {},
     "output_type": "display_data"
    },
    {
     "name": "stdout",
     "output_type": "stream",
     "text": [
      "\n",
      "Test set: Optimizer: Adam Average loss: 0.0596, Accuracy: 9474/10000 (94.74%)\n",
      "\n",
      "\n",
      "Test set: Optimizer: Adadelta Average loss: 0.1493, Accuracy: 8560/10000 (85.60%)\n",
      "\n",
      "\n",
      "Test set: Optimizer: SGD Average loss: 0.1402, Accuracy: 8795/10000 (87.95%)\n",
      "\n"
     ]
    },
    {
     "data": {
      "application/vnd.jupyter.widget-view+json": {
       "model_id": "bd64f39e1b234ef6a5bd698d3996bfb7",
       "version_major": 2,
       "version_minor": 0
      },
      "text/plain": [
       "  0%|          | 0/59 [00:00<?, ?it/s]"
      ]
     },
     "metadata": {},
     "output_type": "display_data"
    },
    {
     "data": {
      "application/vnd.jupyter.widget-view+json": {
       "model_id": "26f06b3041224010b9381f83ff7c1b70",
       "version_major": 2,
       "version_minor": 0
      },
      "text/plain": [
       "  0%|          | 0/59 [00:00<?, ?it/s]"
      ]
     },
     "metadata": {},
     "output_type": "display_data"
    },
    {
     "data": {
      "application/vnd.jupyter.widget-view+json": {
       "model_id": "38a9a3ffae404e61b86fa226cf79a72d",
       "version_major": 2,
       "version_minor": 0
      },
      "text/plain": [
       "  0%|          | 0/59 [00:00<?, ?it/s]"
      ]
     },
     "metadata": {},
     "output_type": "display_data"
    },
    {
     "name": "stdout",
     "output_type": "stream",
     "text": [
      "\n",
      "Test set: Optimizer: Adam Average loss: 0.0424, Accuracy: 9616/10000 (96.16%)\n",
      "\n",
      "\n",
      "Test set: Optimizer: Adadelta Average loss: 0.0595, Accuracy: 9465/10000 (94.65%)\n",
      "\n",
      "\n",
      "Test set: Optimizer: SGD Average loss: 0.1066, Accuracy: 9068/10000 (90.68%)\n",
      "\n"
     ]
    },
    {
     "data": {
      "application/vnd.jupyter.widget-view+json": {
       "model_id": "88d2d0117b824363967c1a1db2a8232c",
       "version_major": 2,
       "version_minor": 0
      },
      "text/plain": [
       "  0%|          | 0/59 [00:00<?, ?it/s]"
      ]
     },
     "metadata": {},
     "output_type": "display_data"
    },
    {
     "data": {
      "application/vnd.jupyter.widget-view+json": {
       "model_id": "55860bc703b5443f9c8cd2f382c6bffd",
       "version_major": 2,
       "version_minor": 0
      },
      "text/plain": [
       "  0%|          | 0/59 [00:00<?, ?it/s]"
      ]
     },
     "metadata": {},
     "output_type": "display_data"
    },
    {
     "data": {
      "application/vnd.jupyter.widget-view+json": {
       "model_id": "21bca58f40f840d3944566a518cee115",
       "version_major": 2,
       "version_minor": 0
      },
      "text/plain": [
       "  0%|          | 0/59 [00:00<?, ?it/s]"
      ]
     },
     "metadata": {},
     "output_type": "display_data"
    },
    {
     "name": "stdout",
     "output_type": "stream",
     "text": [
      "\n",
      "Test set: Optimizer: Adam Average loss: 0.0350, Accuracy: 9695/10000 (96.95%)\n",
      "\n",
      "\n",
      "Test set: Optimizer: Adadelta Average loss: 0.0400, Accuracy: 9639/10000 (96.39%)\n",
      "\n",
      "\n",
      "Test set: Optimizer: SGD Average loss: 0.0952, Accuracy: 9172/10000 (91.72%)\n",
      "\n"
     ]
    },
    {
     "data": {
      "application/vnd.jupyter.widget-view+json": {
       "model_id": "c6a1849859e2441aa2c7bb3749dbc7f2",
       "version_major": 2,
       "version_minor": 0
      },
      "text/plain": [
       "  0%|          | 0/59 [00:00<?, ?it/s]"
      ]
     },
     "metadata": {},
     "output_type": "display_data"
    },
    {
     "data": {
      "application/vnd.jupyter.widget-view+json": {
       "model_id": "844764dccc8a47c9a0f6415ea7d5b559",
       "version_major": 2,
       "version_minor": 0
      },
      "text/plain": [
       "  0%|          | 0/59 [00:00<?, ?it/s]"
      ]
     },
     "metadata": {},
     "output_type": "display_data"
    },
    {
     "data": {
      "application/vnd.jupyter.widget-view+json": {
       "model_id": "cf47dbf2a6ce4596bc7828cba13234e3",
       "version_major": 2,
       "version_minor": 0
      },
      "text/plain": [
       "  0%|          | 0/59 [00:00<?, ?it/s]"
      ]
     },
     "metadata": {},
     "output_type": "display_data"
    },
    {
     "name": "stdout",
     "output_type": "stream",
     "text": [
      "\n",
      "Test set: Optimizer: Adam Average loss: 0.0297, Accuracy: 9739/10000 (97.39%)\n",
      "\n",
      "\n",
      "Test set: Optimizer: Adadelta Average loss: 0.0345, Accuracy: 9685/10000 (96.85%)\n",
      "\n",
      "\n",
      "Test set: Optimizer: SGD Average loss: 0.0877, Accuracy: 9231/10000 (92.31%)\n",
      "\n"
     ]
    },
    {
     "data": {
      "application/vnd.jupyter.widget-view+json": {
       "model_id": "ce2c43898d8b432f8b7c0c661a137794",
       "version_major": 2,
       "version_minor": 0
      },
      "text/plain": [
       "  0%|          | 0/59 [00:00<?, ?it/s]"
      ]
     },
     "metadata": {},
     "output_type": "display_data"
    },
    {
     "data": {
      "application/vnd.jupyter.widget-view+json": {
       "model_id": "5c150465c7f44201bf642e28e1e835ab",
       "version_major": 2,
       "version_minor": 0
      },
      "text/plain": [
       "  0%|          | 0/59 [00:00<?, ?it/s]"
      ]
     },
     "metadata": {},
     "output_type": "display_data"
    },
    {
     "data": {
      "application/vnd.jupyter.widget-view+json": {
       "model_id": "19f3b1cac9a3476489fbb6aafa7cdea6",
       "version_major": 2,
       "version_minor": 0
      },
      "text/plain": [
       "  0%|          | 0/59 [00:00<?, ?it/s]"
      ]
     },
     "metadata": {},
     "output_type": "display_data"
    },
    {
     "name": "stdout",
     "output_type": "stream",
     "text": [
      "\n",
      "Test set: Optimizer: Adam Average loss: 0.0272, Accuracy: 9762/10000 (97.62%)\n",
      "\n",
      "\n",
      "Test set: Optimizer: Adadelta Average loss: 0.0318, Accuracy: 9712/10000 (97.12%)\n",
      "\n",
      "\n",
      "Test set: Optimizer: SGD Average loss: 0.0820, Accuracy: 9280/10000 (92.80%)\n",
      "\n"
     ]
    },
    {
     "data": {
      "application/vnd.jupyter.widget-view+json": {
       "model_id": "297243130d6d48a2a4324b8d203b8b10",
       "version_major": 2,
       "version_minor": 0
      },
      "text/plain": [
       "  0%|          | 0/59 [00:00<?, ?it/s]"
      ]
     },
     "metadata": {},
     "output_type": "display_data"
    },
    {
     "data": {
      "application/vnd.jupyter.widget-view+json": {
       "model_id": "56bd16afc5d54a8b8f64b18413e66dfc",
       "version_major": 2,
       "version_minor": 0
      },
      "text/plain": [
       "  0%|          | 0/59 [00:00<?, ?it/s]"
      ]
     },
     "metadata": {},
     "output_type": "display_data"
    },
    {
     "data": {
      "application/vnd.jupyter.widget-view+json": {
       "model_id": "44d8414687a442988cbb0b5a44801b35",
       "version_major": 2,
       "version_minor": 0
      },
      "text/plain": [
       "  0%|          | 0/59 [00:00<?, ?it/s]"
      ]
     },
     "metadata": {},
     "output_type": "display_data"
    },
    {
     "name": "stdout",
     "output_type": "stream",
     "text": [
      "\n",
      "Test set: Optimizer: Adam Average loss: 0.0267, Accuracy: 9771/10000 (97.71%)\n",
      "\n",
      "\n",
      "Test set: Optimizer: Adadelta Average loss: 0.0293, Accuracy: 9741/10000 (97.41%)\n",
      "\n",
      "\n",
      "Test set: Optimizer: SGD Average loss: 0.0778, Accuracy: 9308/10000 (93.08%)\n",
      "\n"
     ]
    },
    {
     "data": {
      "application/vnd.jupyter.widget-view+json": {
       "model_id": "f97d1fdcc1214c00a2180ad13380bfeb",
       "version_major": 2,
       "version_minor": 0
      },
      "text/plain": [
       "  0%|          | 0/59 [00:00<?, ?it/s]"
      ]
     },
     "metadata": {},
     "output_type": "display_data"
    },
    {
     "data": {
      "application/vnd.jupyter.widget-view+json": {
       "model_id": "ebf6ba70797b4b7aa21ecacb35bec0e7",
       "version_major": 2,
       "version_minor": 0
      },
      "text/plain": [
       "  0%|          | 0/59 [00:00<?, ?it/s]"
      ]
     },
     "metadata": {},
     "output_type": "display_data"
    },
    {
     "data": {
      "application/vnd.jupyter.widget-view+json": {
       "model_id": "6c1670c3acb54df4ad300a1c218f7391",
       "version_major": 2,
       "version_minor": 0
      },
      "text/plain": [
       "  0%|          | 0/59 [00:00<?, ?it/s]"
      ]
     },
     "metadata": {},
     "output_type": "display_data"
    },
    {
     "name": "stdout",
     "output_type": "stream",
     "text": [
      "\n",
      "Test set: Optimizer: Adam Average loss: 0.0249, Accuracy: 9790/10000 (97.90%)\n",
      "\n",
      "\n",
      "Test set: Optimizer: Adadelta Average loss: 0.0280, Accuracy: 9754/10000 (97.54%)\n",
      "\n",
      "\n",
      "Test set: Optimizer: SGD Average loss: 0.0748, Accuracy: 9330/10000 (93.30%)\n",
      "\n"
     ]
    },
    {
     "data": {
      "application/vnd.jupyter.widget-view+json": {
       "model_id": "8c2d5031a2934c2c821fb5631a2d73cd",
       "version_major": 2,
       "version_minor": 0
      },
      "text/plain": [
       "  0%|          | 0/59 [00:00<?, ?it/s]"
      ]
     },
     "metadata": {},
     "output_type": "display_data"
    },
    {
     "data": {
      "application/vnd.jupyter.widget-view+json": {
       "model_id": "992f68df824242c3a612119e5caad03b",
       "version_major": 2,
       "version_minor": 0
      },
      "text/plain": [
       "  0%|          | 0/59 [00:00<?, ?it/s]"
      ]
     },
     "metadata": {},
     "output_type": "display_data"
    },
    {
     "data": {
      "application/vnd.jupyter.widget-view+json": {
       "model_id": "d7bf4b174e96493a86e6e4f565dce6ef",
       "version_major": 2,
       "version_minor": 0
      },
      "text/plain": [
       "  0%|          | 0/59 [00:00<?, ?it/s]"
      ]
     },
     "metadata": {},
     "output_type": "display_data"
    },
    {
     "name": "stdout",
     "output_type": "stream",
     "text": [
      "\n",
      "Test set: Optimizer: Adam Average loss: 0.0227, Accuracy: 9806/10000 (98.06%)\n",
      "\n",
      "\n",
      "Test set: Optimizer: Adadelta Average loss: 0.0268, Accuracy: 9762/10000 (97.62%)\n",
      "\n",
      "\n",
      "Test set: Optimizer: SGD Average loss: 0.0724, Accuracy: 9351/10000 (93.51%)\n",
      "\n"
     ]
    },
    {
     "data": {
      "application/vnd.jupyter.widget-view+json": {
       "model_id": "2c0d0a5e865b48c6bf472abb3dce90a3",
       "version_major": 2,
       "version_minor": 0
      },
      "text/plain": [
       "  0%|          | 0/59 [00:00<?, ?it/s]"
      ]
     },
     "metadata": {},
     "output_type": "display_data"
    },
    {
     "data": {
      "application/vnd.jupyter.widget-view+json": {
       "model_id": "60f18852ab864f9d8da845353c3f25f0",
       "version_major": 2,
       "version_minor": 0
      },
      "text/plain": [
       "  0%|          | 0/59 [00:00<?, ?it/s]"
      ]
     },
     "metadata": {},
     "output_type": "display_data"
    },
    {
     "data": {
      "application/vnd.jupyter.widget-view+json": {
       "model_id": "7c573a2ef9804da7b9dda0b50955aa8e",
       "version_major": 2,
       "version_minor": 0
      },
      "text/plain": [
       "  0%|          | 0/59 [00:00<?, ?it/s]"
      ]
     },
     "metadata": {},
     "output_type": "display_data"
    },
    {
     "name": "stdout",
     "output_type": "stream",
     "text": [
      "\n",
      "Test set: Optimizer: Adam Average loss: 0.0215, Accuracy: 9819/10000 (98.19%)\n",
      "\n",
      "\n",
      "Test set: Optimizer: Adadelta Average loss: 0.0256, Accuracy: 9769/10000 (97.69%)\n",
      "\n",
      "\n",
      "Test set: Optimizer: SGD Average loss: 0.0706, Accuracy: 9367/10000 (93.67%)\n",
      "\n"
     ]
    }
   ],
   "source": [
    "# Send the model to the device (CPU or GPU)\n",
    "cnnAdam = Net().to(device)\n",
    "cnnAdadelta = Net().to(device)\n",
    "cnnSGD = Net().to(device)\n",
    "\n",
    "# Define the optimizers\n",
    "optimizerAdam = optim.Adam(cnnAdam.parameters(), lr=learning_rate_Adam)\n",
    "optimizerAdadelta = optim.Adadelta(cnnAdadelta.parameters(), lr=learning_rate_Adadelta)\n",
    "optimizerSGD = optim.SGD(cnnSGD.parameters(), lr=learning_rate_SGD)\n",
    "\n",
    "# Shrinks the learning rate by gamma every step_size\n",
    "schedulerAdam = ExponentialLR(optimizerAdam, gamma=gamma)\n",
    "schedulerAdadelta = ExponentialLR(optimizerAdadelta, gamma=gamma)\n",
    "schedulerSGD = ExponentialLR(optimizerSGD, gamma=gamma)\n",
    "\n",
    "# Train the model\n",
    "for epoch in range(1, n_epochs + 1):\n",
    "    train(cnnAdam, device, train_loader, optimizerAdam, epoch, log_interval)\n",
    "    train(cnnAdadelta, device, train_loader, optimizerAdadelta, epoch, log_interval)\n",
    "    train(cnnSGD, device, train_loader, optimizerSGD, epoch, log_interval)\n",
    "    test(cnnAdam, device, test_loader, optimizerAdam)\n",
    "    test(cnnAdadelta, device, test_loader, optimizerAdadelta)\n",
    "    test(cnnSGD, device, test_loader, optimizerSGD)\n",
    "    schedulerAdam.step()\n",
    "    schedulerAdadelta.step()\n",
    "    schedulerSGD.step()"
   ]
  },
  {
   "cell_type": "code",
   "execution_count": null,
   "id": "477fc5ee-2074-45d2-a510-d90c66081b2e",
   "metadata": {},
   "outputs": [],
   "source": []
  },
  {
   "cell_type": "code",
   "execution_count": null,
   "id": "0a302da1-33f4-4611-8a5c-0a3f5660e816",
   "metadata": {},
   "outputs": [],
   "source": []
  },
  {
   "cell_type": "code",
   "execution_count": null,
   "id": "593e604e-2f4f-482f-a9c8-770a6c7cb36e",
   "metadata": {},
   "outputs": [],
   "source": []
  }
 ],
 "metadata": {
  "kernelspec": {
   "display_name": "Python 3 (ipykernel)",
   "language": "python",
   "name": "python3"
  },
  "language_info": {
   "codemirror_mode": {
    "name": "ipython",
    "version": 3
   },
   "file_extension": ".py",
   "mimetype": "text/x-python",
   "name": "python",
   "nbconvert_exporter": "python",
   "pygments_lexer": "ipython3",
   "version": "3.12.4"
  }
 },
 "nbformat": 4,
 "nbformat_minor": 5
}
